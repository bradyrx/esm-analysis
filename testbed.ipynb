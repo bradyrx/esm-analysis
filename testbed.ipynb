{
 "cells": [
  {
   "cell_type": "markdown",
   "metadata": {},
   "source": [
    "**Do datasets work?**\n",
    "* I think I don't need the `isinstance` dataset with `.copy()` if I can just use the `apply_ufunc`.\n",
    "\n",
    "**Other stuff**\n",
    "* Various NaN policies (return NaN, interpolate, skip)"
   ]
  },
  {
   "cell_type": "code",
   "execution_count": 1,
   "metadata": {},
   "outputs": [],
   "source": [
    "%matplotlib inline\n",
    "import numpy as np\n",
    "import xarray as xr\n",
    "import numpy.polynomial.polynomial as poly\n",
    "import cftime"
   ]
  },
  {
   "cell_type": "code",
   "execution_count": 2,
   "metadata": {},
   "outputs": [],
   "source": [
    "from esmtools.utils import convert_time\n",
    "\n",
    "def _compute_slope(x, y):\n",
    "    \"\"\"\n",
    "    Private function to compute slopes at each grid cell using\n",
    "    polyfit. \n",
    "    \"\"\"\n",
    "    return np.polyfit(x, y, 1)[0] # return only the slope\n",
    "\n",
    "def compute_slope(x, y, dim='time'):\n",
    "    \"\"\"\n",
    "    Computes linear slope (m) at each grid cell.\n",
    "    \n",
    "    Args:\n",
    "      da: xarray DataArray to compute slopes for\n",
    "      \n",
    "    Returns:\n",
    "      xarray DataArray with slopes computed at each grid cell.\n",
    "    \"\"\"\n",
    "    x = convert_time(x, dim)\n",
    "    \n",
    "    slopes = xr.apply_ufunc(_compute_slope,\n",
    "                            x,\n",
    "                            y,\n",
    "                            vectorize=True,\n",
    "                            dask='parallelized', \n",
    "                            input_core_dims=[[dim], [dim]],\n",
    "                            output_dtypes=[float],\n",
    "                            )\n",
    "    return slopes"
   ]
  },
  {
   "cell_type": "code",
   "execution_count": 15,
   "metadata": {},
   "outputs": [],
   "source": [
    "DAYS_PER_MONTH = {\n",
    "    'noleap': [0, 31, 28, 31, 30, 31, 30, 31, 31, 30, 31, 30, 31],\n",
    "    '365_day': [0, 31, 28, 31, 30, 31, 30, 31, 31, 30, 31, 30, 31],\n",
    "    'standard': [0, 31, 28, 31, 30, 31, 30, 31, 31, 30, 31, 30, 31],\n",
    "    'gregorian': [0, 31, 28, 31, 30, 31, 30, 31, 31, 30, 31, 30, 31],\n",
    "    'proleptic_gregorian': [0, 31, 28, 31, 30, 31, 30, 31, 31, 30, 31, 30, 31],\n",
    "    'all_leap': [0, 31, 29, 31, 30, 31, 30, 31, 31, 30, 31, 30, 31],\n",
    "    '366_day': [0, 31, 29, 31, 30, 31, 30, 31, 31, 30, 31, 30, 31],\n",
    "    '360_day': [0, 30, 30, 30, 30, 30, 30, 30, 30, 30, 30, 30, 30],\n",
    "    'julian': [0, 31, 28, 31, 30, 31, 30, 31, 31, 30, 31, 30, 31],\n",
    "}"
   ]
  },
  {
   "cell_type": "code",
   "execution_count": 21,
   "metadata": {},
   "outputs": [
    {
     "data": {
      "text/plain": [
       "{'noleap': 365,\n",
       " '365_day': 365,\n",
       " 'standard': 365,\n",
       " 'gregorian': 365,\n",
       " 'proleptic_gregorian': 365,\n",
       " 'all_leap': 366,\n",
       " '366_day': 366,\n",
       " '360_day': 360,\n",
       " 'julian': 365}"
      ]
     },
     "execution_count": 21,
     "metadata": {},
     "output_type": "execute_result"
    }
   ],
   "source": [
    "{k: np.sum(v) for (k, v) in DAYS_PER_MONTH.items()}"
   ]
  },
  {
   "cell_type": "code",
   "execution_count": 19,
   "metadata": {},
   "outputs": [
    {
     "data": {
      "text/plain": [
       "365"
      ]
     },
     "execution_count": 19,
     "metadata": {},
     "output_type": "execute_result"
    }
   ],
   "source": [
    "np.sum(DAYS_PER_MONTH['noleap'])"
   ]
  },
  {
   "cell_type": "code",
   "execution_count": 11,
   "metadata": {},
   "outputs": [],
   "source": [
    "ds = xr.open_dataset('/Users/ribr5703/Desktop/dev/climpred-data/CESM-DP-LE.SST.eastern_pacific.nc')\n",
    "ds = ds.SST.isel(lead=0).rename({'init': 'time'})"
   ]
  },
  {
   "cell_type": "markdown",
   "metadata": {},
   "source": [
    "In this case, we give integers for time, so it just computes the delta x equally and returns the slope in units of per year."
   ]
  },
  {
   "cell_type": "code",
   "execution_count": 14,
   "metadata": {},
   "outputs": [
    {
     "data": {
      "text/plain": [
       "<xarray.DataArray 'time' (time: 64)>\n",
       "array([1954., 1955., 1956., 1957., 1958., 1959., 1960., 1961., 1962., 1963.,\n",
       "       1964., 1965., 1966., 1967., 1968., 1969., 1970., 1971., 1972., 1973.,\n",
       "       1974., 1975., 1976., 1977., 1978., 1979., 1980., 1981., 1982., 1983.,\n",
       "       1984., 1985., 1986., 1987., 1988., 1989., 1990., 1991., 1992., 1993.,\n",
       "       1994., 1995., 1996., 1997., 1998., 1999., 2000., 2001., 2002., 2003.,\n",
       "       2004., 2005., 2006., 2007., 2008., 2009., 2010., 2011., 2012., 2013.,\n",
       "       2014., 2015., 2016., 2017.], dtype=float32)\n",
       "Coordinates:\n",
       "  * time     (time) float32 1954.0 1955.0 1956.0 1957.0 ... 2015.0 2016.0 2017.0\n",
       "    lead     int32 1\n",
       "Attributes:\n",
       "    long_name:    ensemble\n",
       "    description:  historical year corresponding to forecast year 1\n",
       "    example:      S=1955 for forecasts initialized on November 1 1954"
      ]
     },
     "execution_count": 14,
     "metadata": {},
     "output_type": "execute_result"
    }
   ],
   "source": [
    "ds.time"
   ]
  },
  {
   "cell_type": "code",
   "execution_count": 4,
   "metadata": {},
   "outputs": [],
   "source": [
    "A = compute_slope(ds.time, ds)"
   ]
  },
  {
   "cell_type": "markdown",
   "metadata": {},
   "source": [
    "`numpy` datetime"
   ]
  },
  {
   "cell_type": "code",
   "execution_count": 5,
   "metadata": {},
   "outputs": [],
   "source": [
    "ds = xr.open_dataset('/Users/ribr5703/Desktop/dev/climpred-data/CESM-DP-LE.SST.eastern_pacific.nc')\n",
    "ds = ds.SST.isel(lead=0).rename({'init': 'time'})\n",
    "ds['time'] = np.arange('1900-12-31', '1964-12-31', dtype='datetime64[Y]')"
   ]
  },
  {
   "cell_type": "code",
   "execution_count": 6,
   "metadata": {},
   "outputs": [],
   "source": [
    "B = compute_slope(ds.time, ds)"
   ]
  },
  {
   "cell_type": "markdown",
   "metadata": {},
   "source": [
    "`cftime` datetime"
   ]
  },
  {
   "cell_type": "code",
   "execution_count": null,
   "metadata": {},
   "outputs": [],
   "source": [
    "ds = xr.open_dataset('/Users/ribr5703/Desktop/dev/climpred-data/CESM-DP-LE.SST.eastern_pacific.nc')\n",
    "ds = ds.SST.isel(lead=0).rename({'init': 'time'})\n",
    "ds['time'] = xr.cftime_range('1900', '1964', freq='Y')"
   ]
  },
  {
   "cell_type": "code",
   "execution_count": null,
   "metadata": {},
   "outputs": [],
   "source": [
    "C = compute_slope(ds.time, ds)"
   ]
  },
  {
   "cell_type": "code",
   "execution_count": null,
   "metadata": {},
   "outputs": [],
   "source": [
    "assert (isinstance(ds.time, xr.CFTimeIndex) or np.issubdtype(ds.time, np.datetime64)), f'{type(test)} is not a datetime index'"
   ]
  }
 ],
 "metadata": {
  "kernelspec": {
   "display_name": "Python 3",
   "language": "python",
   "name": "python3"
  },
  "language_info": {
   "codemirror_mode": {
    "name": "ipython",
    "version": 3
   },
   "file_extension": ".py",
   "mimetype": "text/x-python",
   "name": "python",
   "nbconvert_exporter": "python",
   "pygments_lexer": "ipython3",
   "version": "3.6.7"
  },
  "toc": {
   "base_numbering": 1,
   "nav_menu": {},
   "number_sections": true,
   "sideBar": true,
   "skip_h1_title": false,
   "title_cell": "Table of Contents",
   "title_sidebar": "Contents",
   "toc_cell": false,
   "toc_position": {},
   "toc_section_display": true,
   "toc_window_display": false
  },
  "varInspector": {
   "cols": {
    "lenName": 16,
    "lenType": 16,
    "lenVar": 40
   },
   "kernels_config": {
    "python": {
     "delete_cmd_postfix": "",
     "delete_cmd_prefix": "del ",
     "library": "var_list.py",
     "varRefreshCmd": "print(var_dic_list())"
    },
    "r": {
     "delete_cmd_postfix": ") ",
     "delete_cmd_prefix": "rm(",
     "library": "var_list.r",
     "varRefreshCmd": "cat(var_dic_list()) "
    }
   },
   "types_to_exclude": [
    "module",
    "function",
    "builtin_function_or_method",
    "instance",
    "_Feature"
   ],
   "window_display": false
  }
 },
 "nbformat": 4,
 "nbformat_minor": 4
}
